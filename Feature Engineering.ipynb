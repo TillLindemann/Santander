{
 "cells": [
  {
   "cell_type": "markdown",
   "metadata": {},
   "source": [
    "## 特征工程"
   ]
  },
  {
   "cell_type": "markdown",
   "metadata": {},
   "source": [
    "### 首先要做的是特征的标准化"
   ]
  },
  {
   "cell_type": "code",
   "execution_count": null,
   "metadata": {
    "ExecuteTime": {
     "end_time": "2019-02-21T13:46:20.728380Z",
     "start_time": "2019-02-21T13:46:03.384347Z"
    }
   },
   "outputs": [],
   "source": [
    "import math\n",
    "import pandas as pd\n",
    "import numpy as np\n",
    "import seaborn as sns\n",
    "import lightgbm as lgb\n",
    "import matplotlib.pyplot as plt\n",
    "from sklearn.metrics import mean_squared_error\n",
    "from sklearn.metrics import roc_auc_score, roc_curve\n",
    "from sklearn.model_selection import StratifiedKFold\n",
    "\n",
    "train_df = pd.read_csv(\"../SantanderData/train.csv\")\n",
    "test_df = pd.read_csv(\"../SantanderData/test.csv\")"
   ]
  },
  {
   "cell_type": "markdown",
   "metadata": {},
   "source": [
    "显然，我们的特征实在过多，若直接导入模型进行训练，势必会遇到所谓的“维数灾难”这一问题，所以我们先要做的事情是特征选择，但是在进行特征选择之前，我们需要对特征进行标准化，这样才能进行第一步比较粗浅的特征选择。"
   ]
  },
  {
   "cell_type": "code",
   "execution_count": null,
   "metadata": {
    "ExecuteTime": {
     "end_time": "2019-02-21T13:46:22.738796Z",
     "start_time": "2019-02-21T13:46:20.731113Z"
    }
   },
   "outputs": [],
   "source": [
    "from sklearn.preprocessing import MinMaxScaler\n",
    "train_X = MinMaxScaler().fit_transform(train_df[train_df.columns.values[2:]])\n",
    "test_X = MinMaxScaler().fit_transform(test_df[test_df.columns.values[1:]])\n",
    "train_Y = train_df[\"target\"].values"
   ]
  },
  {
   "cell_type": "code",
   "execution_count": null,
   "metadata": {
    "ExecuteTime": {
     "end_time": "2019-02-21T13:46:22.749163Z",
     "start_time": "2019-02-21T13:46:22.741399Z"
    }
   },
   "outputs": [],
   "source": [
    "print(\"train_X shape:\",train_X.shape)\n",
    "print(\"test_X shape:\",test_X.shape)\n",
    "print(\"train_Y shape:\",train_Y.shape)"
   ]
  },
  {
   "cell_type": "markdown",
   "metadata": {},
   "source": [
    "### 第一步的特征选择"
   ]
  },
  {
   "cell_type": "markdown",
   "metadata": {},
   "source": [
    "#### 方差选择法"
   ]
  },
  {
   "cell_type": "markdown",
   "metadata": {},
   "source": [
    "首先我们要剔除掉方差接近为0的特征，因为样本在这类的特征上面没有差异。"
   ]
  },
  {
   "cell_type": "code",
   "execution_count": null,
   "metadata": {
    "ExecuteTime": {
     "end_time": "2019-02-21T13:46:23.291068Z",
     "start_time": "2019-02-21T13:46:22.752462Z"
    }
   },
   "outputs": [],
   "source": [
    "from sklearn.feature_selection import VarianceThreshold\n",
    "train_X = VarianceThreshold().fit_transform(train_X)"
   ]
  },
  {
   "cell_type": "code",
   "execution_count": null,
   "metadata": {
    "ExecuteTime": {
     "end_time": "2019-02-21T13:46:23.296971Z",
     "start_time": "2019-02-21T13:46:23.292864Z"
    }
   },
   "outputs": [],
   "source": [
    "train_X.shape"
   ]
  },
  {
   "cell_type": "markdown",
   "metadata": {},
   "source": [
    "但是原数据的最大方差和最小方差差别很小，且最小方差都大于0.1，所以方差无法进行选择。"
   ]
  },
  {
   "cell_type": "markdown",
   "metadata": {},
   "source": [
    "#### 相关系数法"
   ]
  },
  {
   "cell_type": "markdown",
   "metadata": {},
   "source": [
    "我们先砍掉一半的特征，然后进行一波测试"
   ]
  },
  {
   "cell_type": "code",
   "execution_count": null,
   "metadata": {
    "ExecuteTime": {
     "end_time": "2019-02-21T13:48:35.871175Z",
     "start_time": "2019-02-21T13:48:35.619766Z"
    }
   },
   "outputs": [],
   "source": [
    "from sklearn.feature_selection import SelectKBest,chi2\n",
    "selector = SelectKBest(chi2,k=100)\n",
    "train_X_chi2 = selector.fit_transform(train_X,train_Y)\n",
    "select_val = selector.get_support(indices = True)"
   ]
  },
  {
   "cell_type": "code",
   "execution_count": null,
   "metadata": {
    "ExecuteTime": {
     "end_time": "2019-02-21T13:48:46.471406Z",
     "start_time": "2019-02-21T13:48:46.362976Z"
    }
   },
   "outputs": [],
   "source": [
    "test_X = test_X[:,select_val]"
   ]
  },
  {
   "cell_type": "markdown",
   "metadata": {},
   "source": [
    "### 模型测试"
   ]
  },
  {
   "cell_type": "code",
   "execution_count": null,
   "metadata": {
    "ExecuteTime": {
     "end_time": "2019-02-21T14:08:34.194033Z",
     "start_time": "2019-02-21T14:08:34.189121Z"
    }
   },
   "outputs": [],
   "source": [
    "from sklearn.model_selection import StratifiedKFold\n",
    "param = {\n",
    "        'num_leaves': 10,\n",
    "        'max_bin': 119,\n",
    "        'min_data_in_leaf': 11,\n",
    "        'learning_rate': 0.02,\n",
    "        'min_sum_hessian_in_leaf': 0.00245,\n",
    "        'bagging_fraction': 1.0, \n",
    "        'bagging_freq': 5, \n",
    "        'feature_fraction': 0.05,\n",
    "        'lambda_l1': 4.972,\n",
    "        'lambda_l2': 2.276,\n",
    "        'min_gain_to_split': 0.65,\n",
    "        'max_depth': 14,\n",
    "        'save_binary': True,\n",
    "        'seed': 1337,\n",
    "        'feature_fraction_seed': 1337,\n",
    "        'bagging_seed': 1337,\n",
    "        'drop_seed': 1337,\n",
    "        'data_random_seed': 1337,\n",
    "        'objective': 'binary',\n",
    "        'boosting_type': 'gbdt',\n",
    "        'verbose': 1,\n",
    "        'metric': 'auc',\n",
    "        'is_unbalance': True,\n",
    "        'boost_from_average': False,\n",
    "    }"
   ]
  },
  {
   "cell_type": "code",
   "execution_count": null,
   "metadata": {
    "ExecuteTime": {
     "end_time": "2019-02-21T14:39:18.695249Z",
     "start_time": "2019-02-21T14:39:18.688976Z"
    }
   },
   "outputs": [],
   "source": [
    "features = select_val"
   ]
  },
  {
   "cell_type": "code",
   "execution_count": null,
   "metadata": {
    "ExecuteTime": {
     "end_time": "2019-02-21T14:44:24.214779Z",
     "start_time": "2019-02-21T14:41:28.469508Z"
    }
   },
   "outputs": [],
   "source": [
    "nfold = 5\n",
    "skf = StratifiedKFold(n_splits=nfold, shuffle=True, random_state=2019)\n",
    "\n",
    "oof = np.zeros(len(train_df))\n",
    "predictions = np.zeros(len(test_df))\n",
    "feature_importance_df = pd.DataFrame()\n",
    "\n",
    "i = 1\n",
    "for train_index, valid_index in skf.split(train_X_chi2, train_Y):\n",
    "    print(\"\\nfold {}\".format(i))\n",
    "    \n",
    "    xg_train = lgb.Dataset(train_X_chi2[train_index,:],\n",
    "                           label=train_Y[train_index],\n",
    "                           free_raw_data = False\n",
    "                           )\n",
    "    xg_valid = lgb.Dataset(train_X_chi2[valid_index,:],\n",
    "                           label=train_Y[valid_index],\n",
    "                           free_raw_data = False\n",
    "                           )   \n",
    "\n",
    "    \n",
    "    clf = lgb.train(param, xg_train, 5000, valid_sets = [xg_valid], verbose_eval=50, early_stopping_rounds = 50)\n",
    "    oof[valid_index] = clf.predict(train_X_chi2[valid_index,:], num_iteration=clf.best_iteration) \n",
    "    fold_importance_df = pd.DataFrame()\n",
    "    fold_importance_df[\"Feature\"] = features\n",
    "    fold_importance_df[\"importance\"] = clf.feature_importance()\n",
    "    fold_importance_df[\"fold\"] = i + 1\n",
    "    feature_importance_df = pd.concat([feature_importance_df, fold_importance_df], axis=0)\n",
    "    \n",
    "    predictions += clf.predict(test_X, num_iteration=clf.best_iteration) / nfold\n",
    "    i = i + 1\n",
    "\n"
   ]
  },
  {
   "cell_type": "code",
   "execution_count": null,
   "metadata": {
    "ExecuteTime": {
     "end_time": "2019-02-21T14:44:34.264872Z",
     "start_time": "2019-02-21T14:44:34.181685Z"
    }
   },
   "outputs": [],
   "source": [
    "print(\"\\n\\nCV AUC: {:<0.2f}\".format(roc_auc_score(train_Y, oof)))"
   ]
  },
  {
   "cell_type": "code",
   "execution_count": null,
   "metadata": {
    "ExecuteTime": {
     "end_time": "2019-02-21T15:02:57.671415Z",
     "start_time": "2019-02-21T15:02:57.656038Z"
    }
   },
   "outputs": [],
   "source": [
    "cols = (feature_importance_df[[\"Feature\", \"importance\"]]\n",
    "        .groupby(\"Feature\")\n",
    "        .mean()\n",
    "        .sort_values(by=\"importance\", ascending=False)[:50].index)\n",
    "best_features = feature_importance_df.loc[feature_importance_df.Feature.isin(cols)]\n",
    "best_features"
   ]
  },
  {
   "cell_type": "code",
   "execution_count": null,
   "metadata": {
    "ExecuteTime": {
     "end_time": "2019-02-21T15:03:46.564890Z",
     "start_time": "2019-02-21T15:03:46.015474Z"
    }
   },
   "outputs": [],
   "source": [
    "sub_df = pd.DataFrame({\"ID_code\":test_df[\"ID_code\"].values})\n",
    "sub_df[\"target\"] = predictions\n",
    "sub_df.to_csv(\"../SantanderData/submission.csv\", index=False)"
   ]
  },
  {
   "cell_type": "code",
   "execution_count": null,
   "metadata": {},
   "outputs": [],
   "source": []
  }
 ],
 "metadata": {
  "kernelspec": {
   "display_name": "Python 3",
   "language": "python",
   "name": "python3"
  },
  "language_info": {
   "codemirror_mode": {
    "name": "ipython",
    "version": 3
   },
   "file_extension": ".py",
   "mimetype": "text/x-python",
   "name": "python",
   "nbconvert_exporter": "python",
   "pygments_lexer": "ipython3",
   "version": "3.7.1"
  },
  "toc": {
   "base_numbering": 1,
   "nav_menu": {},
   "number_sections": true,
   "sideBar": true,
   "skip_h1_title": false,
   "title_cell": "Table of Contents",
   "title_sidebar": "Contents",
   "toc_cell": false,
   "toc_position": {},
   "toc_section_display": true,
   "toc_window_display": true
  },
  "varInspector": {
   "cols": {
    "lenName": 16,
    "lenType": 16,
    "lenVar": 40
   },
   "kernels_config": {
    "python": {
     "delete_cmd_postfix": "",
     "delete_cmd_prefix": "del ",
     "library": "var_list.py",
     "varRefreshCmd": "print(var_dic_list())"
    },
    "r": {
     "delete_cmd_postfix": ") ",
     "delete_cmd_prefix": "rm(",
     "library": "var_list.r",
     "varRefreshCmd": "cat(var_dic_list()) "
    }
   },
   "types_to_exclude": [
    "module",
    "function",
    "builtin_function_or_method",
    "instance",
    "_Feature"
   ],
   "window_display": false
  }
 },
 "nbformat": 4,
 "nbformat_minor": 2
}
